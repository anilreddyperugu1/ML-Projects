{
 "cells": [
  {
   "cell_type": "markdown",
   "id": "5652dd49",
   "metadata": {},
   "source": [
    "# **Movie Recommendation System using SVD**"
   ]
  },
  {
   "cell_type": "markdown",
   "id": "9acaac4e",
   "metadata": {},
   "source": [
    "**Importing dependencies**"
   ]
  },
  {
   "cell_type": "code",
   "execution_count": 85,
   "id": "2ec5b9a3",
   "metadata": {},
   "outputs": [],
   "source": [
    "import numpy as np\n",
    "import pandas as pd\n",
    "from surprise import Dataset, Reader, SVD\n",
    "from surprise.model_selection import train_test_split\n",
    "from surprise import accuracy\n",
    "from collections import defaultdict"
   ]
  },
  {
   "cell_type": "markdown",
   "id": "8f392564",
   "metadata": {},
   "source": [
    "**---- INITIAL DATA ANALYSIS & PRE PROCESSING ----**"
   ]
  },
  {
   "cell_type": "markdown",
   "id": "8c3600bb",
   "metadata": {},
   "source": [
    "**Loading & Parsing the dat files**"
   ]
  },
  {
   "cell_type": "code",
   "execution_count": null,
   "id": "57befe0c",
   "metadata": {},
   "outputs": [],
   "source": [
    "movies_df  = pd.read_csv('movies.dat',sep='::', engine='python', names=['movieID', 'title', 'genres'], encoding='latin-1')\n",
    "\n",
    "rating_df = pd.read_csv('ratings.dat', sep='::', engine='python', names=['userID', 'movieID', 'rating', 'timestamp'], encoding='latin-1')"
   ]
  },
  {
   "cell_type": "code",
   "execution_count": 87,
   "id": "8672070e",
   "metadata": {},
   "outputs": [
    {
     "name": "stdout",
     "output_type": "stream",
     "text": [
      "   movieID                               title                        genres\n",
      "0        1                    Toy Story (1995)   Animation|Children's|Comedy\n",
      "1        2                      Jumanji (1995)  Adventure|Children's|Fantasy\n",
      "2        3             Grumpier Old Men (1995)                Comedy|Romance\n",
      "3        4            Waiting to Exhale (1995)                  Comedy|Drama\n",
      "4        5  Father of the Bride Part II (1995)                        Comedy\n"
     ]
    }
   ],
   "source": [
    "print(movies_df.head())"
   ]
  },
  {
   "cell_type": "code",
   "execution_count": null,
   "id": "40b01fc4",
   "metadata": {},
   "outputs": [
    {
     "data": {
      "text/plain": [
       "movieID    0\n",
       "title      0\n",
       "genres     0\n",
       "dtype: int64"
      ]
     },
     "execution_count": 88,
     "metadata": {},
     "output_type": "execute_result"
    }
   ],
   "source": [
    "movies_df.isnull().sum() #finding null values"
   ]
  },
  {
   "cell_type": "code",
   "execution_count": null,
   "id": "1a071b4b",
   "metadata": {},
   "outputs": [
    {
     "data": {
      "text/plain": [
       "(3883, 3)"
      ]
     },
     "execution_count": 89,
     "metadata": {},
     "output_type": "execute_result"
    }
   ],
   "source": [
    "movies_df.shape #dimensions of the dataset"
   ]
  },
  {
   "cell_type": "code",
   "execution_count": null,
   "id": "2c440b69",
   "metadata": {},
   "outputs": [
    {
     "name": "stdout",
     "output_type": "stream",
     "text": [
      "<class 'pandas.core.frame.DataFrame'>\n",
      "RangeIndex: 3883 entries, 0 to 3882\n",
      "Data columns (total 3 columns):\n",
      " #   Column   Non-Null Count  Dtype \n",
      "---  ------   --------------  ----- \n",
      " 0   movieID  3883 non-null   int64 \n",
      " 1   title    3883 non-null   object\n",
      " 2   genres   3883 non-null   object\n",
      "dtypes: int64(1), object(2)\n",
      "memory usage: 91.1+ KB\n"
     ]
    }
   ],
   "source": [
    "movies_df.info() #information about the dataset"
   ]
  },
  {
   "cell_type": "code",
   "execution_count": null,
   "id": "bf1dff26",
   "metadata": {},
   "outputs": [
    {
     "data": {
      "text/html": [
       "<div>\n",
       "<style scoped>\n",
       "    .dataframe tbody tr th:only-of-type {\n",
       "        vertical-align: middle;\n",
       "    }\n",
       "\n",
       "    .dataframe tbody tr th {\n",
       "        vertical-align: top;\n",
       "    }\n",
       "\n",
       "    .dataframe thead th {\n",
       "        text-align: right;\n",
       "    }\n",
       "</style>\n",
       "<table border=\"1\" class=\"dataframe\">\n",
       "  <thead>\n",
       "    <tr style=\"text-align: right;\">\n",
       "      <th></th>\n",
       "      <th>userID</th>\n",
       "      <th>movieID</th>\n",
       "      <th>rating</th>\n",
       "      <th>timestamp</th>\n",
       "    </tr>\n",
       "  </thead>\n",
       "  <tbody>\n",
       "    <tr>\n",
       "      <th>0</th>\n",
       "      <td>1</td>\n",
       "      <td>1193</td>\n",
       "      <td>5</td>\n",
       "      <td>978300760</td>\n",
       "    </tr>\n",
       "    <tr>\n",
       "      <th>1</th>\n",
       "      <td>1</td>\n",
       "      <td>661</td>\n",
       "      <td>3</td>\n",
       "      <td>978302109</td>\n",
       "    </tr>\n",
       "    <tr>\n",
       "      <th>2</th>\n",
       "      <td>1</td>\n",
       "      <td>914</td>\n",
       "      <td>3</td>\n",
       "      <td>978301968</td>\n",
       "    </tr>\n",
       "    <tr>\n",
       "      <th>3</th>\n",
       "      <td>1</td>\n",
       "      <td>3408</td>\n",
       "      <td>4</td>\n",
       "      <td>978300275</td>\n",
       "    </tr>\n",
       "    <tr>\n",
       "      <th>4</th>\n",
       "      <td>1</td>\n",
       "      <td>2355</td>\n",
       "      <td>5</td>\n",
       "      <td>978824291</td>\n",
       "    </tr>\n",
       "  </tbody>\n",
       "</table>\n",
       "</div>"
      ],
      "text/plain": [
       "   userID  movieID  rating  timestamp\n",
       "0       1     1193       5  978300760\n",
       "1       1      661       3  978302109\n",
       "2       1      914       3  978301968\n",
       "3       1     3408       4  978300275\n",
       "4       1     2355       5  978824291"
      ]
     },
     "execution_count": 91,
     "metadata": {},
     "output_type": "execute_result"
    }
   ],
   "source": [
    "rating_df.head() #top 5 rows of the dataset"
   ]
  },
  {
   "cell_type": "code",
   "execution_count": null,
   "id": "fc288d22",
   "metadata": {},
   "outputs": [
    {
     "data": {
      "text/plain": [
       "(1000209, 4)"
      ]
     },
     "execution_count": 92,
     "metadata": {},
     "output_type": "execute_result"
    }
   ],
   "source": [
    "rating_df.shape #dimensions of the dataset"
   ]
  },
  {
   "cell_type": "code",
   "execution_count": null,
   "id": "e2ae66b0",
   "metadata": {},
   "outputs": [
    {
     "name": "stdout",
     "output_type": "stream",
     "text": [
      "<class 'pandas.core.frame.DataFrame'>\n",
      "RangeIndex: 1000209 entries, 0 to 1000208\n",
      "Data columns (total 4 columns):\n",
      " #   Column     Non-Null Count    Dtype\n",
      "---  ------     --------------    -----\n",
      " 0   userID     1000209 non-null  int64\n",
      " 1   movieID    1000209 non-null  int64\n",
      " 2   rating     1000209 non-null  int64\n",
      " 3   timestamp  1000209 non-null  int64\n",
      "dtypes: int64(4)\n",
      "memory usage: 30.5 MB\n"
     ]
    }
   ],
   "source": [
    "rating_df.info() #information about the dataset"
   ]
  },
  {
   "cell_type": "markdown",
   "id": "8b7e27e1",
   "metadata": {},
   "source": [
    "**Loading ratings data into Surprise dataset format**"
   ]
  },
  {
   "cell_type": "code",
   "execution_count": null,
   "id": "9a0a4ea4",
   "metadata": {},
   "outputs": [
    {
     "name": "stdout",
     "output_type": "stream",
     "text": [
      "✅ Data loaded into scikit-surprise successfully!\n"
     ]
    }
   ],
   "source": [
    "reader = Reader(line_format='user item rating timestamp', sep='::', rating_scale=(1, 5))\n",
    "data = Dataset.load_from_file('ratings.dat', reader=reader)\n",
    "print(\"✅ Data loaded into scikit-surprise successfully!\")"
   ]
  },
  {
   "cell_type": "code",
   "execution_count": 95,
   "id": "dd401361",
   "metadata": {},
   "outputs": [
    {
     "name": "stdout",
     "output_type": "stream",
     "text": [
      "<surprise.dataset.DatasetAutoFolds object at 0x00000263D20A85F0>\n"
     ]
    }
   ],
   "source": [
    "print(data)"
   ]
  },
  {
   "cell_type": "markdown",
   "id": "0d2c5436",
   "metadata": {},
   "source": [
    "**---- MODEL BUILDING ----**"
   ]
  },
  {
   "cell_type": "markdown",
   "id": "f99418b9",
   "metadata": {},
   "source": [
    "**Splitting the data for train and test**"
   ]
  },
  {
   "cell_type": "code",
   "execution_count": null,
   "id": "42c75640",
   "metadata": {},
   "outputs": [],
   "source": [
    "trainset, testset = train_test_split(data, test_size=0.2, random_state=54) #20% for test, 80% for train"
   ]
  },
  {
   "cell_type": "markdown",
   "id": "48d181c2",
   "metadata": {},
   "source": [
    "**Intializing the model and training it**"
   ]
  },
  {
   "cell_type": "code",
   "execution_count": null,
   "id": "8515bddc",
   "metadata": {},
   "outputs": [
    {
     "data": {
      "text/plain": [
       "<surprise.prediction_algorithms.matrix_factorization.SVD at 0x263f6ab94c0>"
      ]
     },
     "execution_count": 98,
     "metadata": {},
     "output_type": "execute_result"
    }
   ],
   "source": [
    "svd = SVD(n_factors=10, n_epochs=50, lr_all=0.006)\n",
    "svd.fit(trainset) #training the model"
   ]
  },
  {
   "cell_type": "markdown",
   "id": "691475e6",
   "metadata": {},
   "source": [
    "**Prediction from the model**"
   ]
  },
  {
   "cell_type": "code",
   "execution_count": 99,
   "id": "5d0f1bf5",
   "metadata": {},
   "outputs": [],
   "source": [
    "prediction = svd.test(testset)"
   ]
  },
  {
   "cell_type": "markdown",
   "id": "f7630852",
   "metadata": {},
   "source": [
    "**Analysis of the above prediction**"
   ]
  },
  {
   "cell_type": "code",
   "execution_count": 100,
   "id": "6f374a2a",
   "metadata": {},
   "outputs": [
    {
     "name": "stdout",
     "output_type": "stream",
     "text": [
      "0 53 745 5.0 5 {'was_impossible': False}\n",
      "1 3993 1079 4.0 3.3231126017154753 {'was_impossible': False}\n",
      "2 5036 2827 2.0 2.526373343990747 {'was_impossible': False}\n",
      "3 1291 2424 4.0 3.3033438482896633 {'was_impossible': False}\n",
      "4 1238 233 5.0 3.7990496638525526 {'was_impossible': False}\n",
      "5 4318 2822 4.0 3.944992805376482 {'was_impossible': False}\n",
      "6 4979 3760 4.0 3.2141926365276254 {'was_impossible': False}\n",
      "7 1329 870 1.0 2.0624781199434006 {'was_impossible': False}\n",
      "8 4957 62 3.0 3.439126037780584 {'was_impossible': False}\n",
      "9 1632 2362 1.0 2.9388321757150715 {'was_impossible': False}\n",
      "10 5070 1078 2.0 4.19331916459395 {'was_impossible': False}\n",
      "11 4058 2423 2.0 3.7124028783946237 {'was_impossible': False}\n",
      "12 351 457 4.0 4.162966033037638 {'was_impossible': False}\n",
      "13 587 260 4.0 3.344912095418415 {'was_impossible': False}\n",
      "14 6007 2455 4.0 2.931383388222886 {'was_impossible': False}\n",
      "15 1051 3397 4.0 4.047903368048303 {'was_impossible': False}\n",
      "16 2092 3368 3.0 3.671969379313864 {'was_impossible': False}\n",
      "17 4499 1912 4.0 4.162956557849753 {'was_impossible': False}\n",
      "18 4845 945 4.0 4.077395699516108 {'was_impossible': False}\n",
      "19 3960 1270 5.0 4.119575366267959 {'was_impossible': False}\n",
      "20 2625 2719 4.0 2.784983193276835 {'was_impossible': False}\n",
      "21 1404 1441 2.0 2.683008732869895 {'was_impossible': False}\n",
      "22 1752 866 4.0 3.9787919609860047 {'was_impossible': False}\n",
      "23 4784 2065 4.0 4.138895210148948 {'was_impossible': False}\n",
      "24 1426 293 4.0 4.052579925529607 {'was_impossible': False}\n",
      "25 1602 1617 5.0 4.408785961203527 {'was_impossible': False}\n",
      "26 5100 2112 5.0 4.565521457024499 {'was_impossible': False}\n",
      "27 1592 3897 5.0 4.090675414795428 {'was_impossible': False}\n",
      "28 1449 1283 3.0 3.8767051083167052 {'was_impossible': False}\n",
      "29 1142 3408 4.0 3.845923217093392 {'was_impossible': False}\n",
      "30 2793 3169 4.0 4.036693046887599 {'was_impossible': False}\n",
      "31 2181 1983 3.0 2.5242211333110474 {'was_impossible': False}\n",
      "32 3929 2005 2.0 3.013384545608808 {'was_impossible': False}\n",
      "33 3985 2262 4.0 2.7967163608611108 {'was_impossible': False}\n",
      "34 1329 2502 5.0 4.013118417647707 {'was_impossible': False}\n",
      "35 2073 1292 5.0 4.1986373526338046 {'was_impossible': False}\n",
      "36 3546 1084 5.0 3.727186757547468 {'was_impossible': False}\n",
      "37 2852 328 4.0 4.248944848262413 {'was_impossible': False}\n",
      "38 245 3088 3.0 3.3551213407359386 {'was_impossible': False}\n",
      "39 3224 3445 4.0 3.6495750085615435 {'was_impossible': False}\n",
      "40 5335 2917 5.0 4.176625754870488 {'was_impossible': False}\n",
      "41 5338 2407 3.0 3.3129174656176104 {'was_impossible': False}\n",
      "42 3069 1876 3.0 2.003753348098504 {'was_impossible': False}\n",
      "43 5109 2858 5.0 3.6281206118310823 {'was_impossible': False}\n",
      "44 4195 899 5.0 4.927732803545568 {'was_impossible': False}\n",
      "45 4277 2924 3.0 4.311419450543931 {'was_impossible': False}\n",
      "46 199 204 3.0 2.9505277701821266 {'was_impossible': False}\n",
      "47 937 1580 1.0 3.832179971254332 {'was_impossible': False}\n",
      "48 3829 1355 1.0 2.306737918424566 {'was_impossible': False}\n",
      "49 610 1917 1.0 2.573090875786865 {'was_impossible': False}\n"
     ]
    }
   ],
   "source": [
    "for index, (user, item, rating, est, extra) in enumerate(prediction):\n",
    "    if index == 50:\n",
    "        break\n",
    "    print(index, user, item, rating, est, extra)"
   ]
  },
  {
   "cell_type": "markdown",
   "id": "ae0268cd",
   "metadata": {},
   "source": [
    "**---- MODEL EVALUATION ----**"
   ]
  },
  {
   "cell_type": "markdown",
   "id": "59ede5a8",
   "metadata": {},
   "source": [
    "**Manual checkup of the prediction**"
   ]
  },
  {
   "cell_type": "code",
   "execution_count": null,
   "id": "05d4cc26",
   "metadata": {},
   "outputs": [
    {
     "name": "stdout",
     "output_type": "stream",
     "text": [
      "predicted rating for User 2 on Movie 2236: 3.84\n"
     ]
    }
   ],
   "source": [
    "user_id = str(2) #Userid as string if using surprise\n",
    "movie_id = str(2236) #movieid as string if using surprise\n",
    "result = svd.predict(user_id, movie_id) #passing them for prediction\n",
    "print(f'predicted rating for User {user_id} on Movie {movie_id}: {result.est:.2f}')"
   ]
  },
  {
   "cell_type": "markdown",
   "id": "2726bba8",
   "metadata": {},
   "source": [
    "**Accuracy scores of the model**"
   ]
  },
  {
   "cell_type": "code",
   "execution_count": null,
   "id": "36a5d863",
   "metadata": {},
   "outputs": [
    {
     "name": "stdout",
     "output_type": "stream",
     "text": [
      "MAE:  0.6705\n",
      "MSE: 0.7375\n",
      "RMSE: 0.8588\n"
     ]
    }
   ],
   "source": [
    "MAE = accuracy.mae(prediction) #Mean Absolute Error\n",
    "MSE = accuracy.mse(prediction) #Mean Squared Error\n",
    "RMSE = accuracy.rmse(prediction) #Root Mean Squared Error\n"
   ]
  },
  {
   "cell_type": "markdown",
   "id": "d92dca93",
   "metadata": {},
   "source": [
    "**---- RECOMMEND TOP N MOVIES TO THE USERS ----**"
   ]
  },
  {
   "cell_type": "markdown",
   "id": "05eeb072",
   "metadata": {},
   "source": [
    "**Finding top 5 recommendations**"
   ]
  },
  {
   "cell_type": "code",
   "execution_count": null,
   "id": "6a725652",
   "metadata": {},
   "outputs": [],
   "source": [
    "def get_top_n(full_predictions, n=5):\n",
    "    top_n = defaultdict(list) #Default dictionary to append data\n",
    "\n",
    "    for uid, iid, true_r, pred_r, _ in full_predictions:\n",
    "        top_n[uid].append((iid, pred_r)) #append movie, predicted rating into uid\n",
    "\n",
    "    for uid, user_ratings in top_n.items():\n",
    "        top_n[uid] = user_ratings[:n] #slicing top n data \n",
    "\n",
    "    return top_n"
   ]
  },
  {
   "cell_type": "markdown",
   "id": "9a02f999",
   "metadata": {},
   "source": [
    "**Building the anti movies data**"
   ]
  },
  {
   "cell_type": "code",
   "execution_count": null,
   "id": "398ef867",
   "metadata": {},
   "outputs": [],
   "source": [
    "full_trainset = data.build_full_trainset() #All training ratings into full trainset\n",
    "svd.fit(full_trainset)\n",
    "full_testset = full_trainset.build_anti_testset() #All user-item pairs for movies where the user has not rated yet\n",
    "full_predictions = svd.test(full_testset)"
   ]
  },
  {
   "cell_type": "markdown",
   "id": "ad5d3d91",
   "metadata": {},
   "source": [
    "**Analysis of above operation**"
   ]
  },
  {
   "cell_type": "code",
   "execution_count": 113,
   "id": "75d0fbf1",
   "metadata": {},
   "outputs": [
    {
     "name": "stdout",
     "output_type": "stream",
     "text": [
      "1 1357 3.581564453029317 3.664124036877412\n",
      "1 3068 3.581564453029317 4.381818125079591\n",
      "1 1537 3.581564453029317 4.391631333423155\n",
      "1 647 3.581564453029317 4.178081538470979\n",
      "1 2194 3.581564453029317 4.302198859426854\n",
      "1 648 3.581564453029317 3.6747912911082548\n",
      "1 2268 3.581564453029317 4.439272761867488\n",
      "1 2628 3.581564453029317 3.4736391614926783\n",
      "1 1103 3.581564453029317 4.150203342079834\n",
      "1 2916 3.581564453029317 3.834726618266035\n",
      "1 3468 3.581564453029317 4.469981708360451\n",
      "1 1210 3.581564453029317 3.8178727217713875\n",
      "1 1792 3.581564453029317 3.8601440835440046\n",
      "1 1687 3.581564453029317 3.5087446017933512\n",
      "1 1213 3.581564453029317 4.347310618737607\n",
      "1 3578 3.581564453029317 4.272579122165872\n",
      "1 2881 3.581564453029317 3.992797907057434\n",
      "1 3030 3.581564453029317 3.8557543599690063\n",
      "1 1217 3.581564453029317 3.953880116869925\n",
      "1 434 3.581564453029317 3.7369647270866286\n"
     ]
    }
   ],
   "source": [
    "for index, (user_id, movie_id, user_rating, pred_r, _) in enumerate(full_predictions):\n",
    "    if index == 20:\n",
    "        break\n",
    "    print(user_id, movie_id, user_rating, pred_r)"
   ]
  },
  {
   "cell_type": "code",
   "execution_count": 114,
   "id": "406123bd",
   "metadata": {},
   "outputs": [
    {
     "name": "stdout",
     "output_type": "stream",
     "text": [
      "21384031\n"
     ]
    }
   ],
   "source": [
    "print(len(full_predictions))"
   ]
  },
  {
   "cell_type": "markdown",
   "id": "9b2e4dcb",
   "metadata": {},
   "source": [
    "**Finding top recommendations out of full data**"
   ]
  },
  {
   "cell_type": "code",
   "execution_count": 138,
   "id": "49b45214",
   "metadata": {},
   "outputs": [
    {
     "name": "stdout",
     "output_type": "stream",
     "text": [
      "6040\n"
     ]
    }
   ],
   "source": [
    "top_n_recommendations = get_top_n(full_predictions, n=5)\n",
    "print(len(top_n_recommendations))"
   ]
  },
  {
   "cell_type": "markdown",
   "id": "99386c5d",
   "metadata": {},
   "source": [
    "**Finding top 5 recommendations for user 1**"
   ]
  },
  {
   "cell_type": "code",
   "execution_count": null,
   "id": "bdff6d8b",
   "metadata": {},
   "outputs": [
    {
     "name": "stdout",
     "output_type": "stream",
     "text": [
      "Sample user ID: 1\n",
      "Recommendations: [('1357', 3.664124036877412), ('3068', 4.381818125079591), ('1537', 4.391631333423155), ('647', 4.178081538470979), ('2194', 4.302198859426854)]\n"
     ]
    }
   ],
   "source": [
    "# getting recommendations for the first available user\n",
    "sample_user = list(top_n_recommendations.keys())[0]\n",
    "print(\"Sample user ID:\", sample_user)\n",
    "print(\"Recommendations:\", top_n_recommendations[sample_user])"
   ]
  },
  {
   "cell_type": "markdown",
   "id": "a8135c12",
   "metadata": {},
   "source": [
    "**Fetching names to the movieIDs and printing them**"
   ]
  },
  {
   "cell_type": "code",
   "execution_count": 130,
   "id": "2ddc56c1",
   "metadata": {},
   "outputs": [
    {
     "name": "stdout",
     "output_type": "stream",
     "text": [
      "Top recommendations for user 1\n",
      "                                 \n",
      "Shine (1996) : (Predicted rating: 3.66)\n",
      "Verdict, The (1982) : (Predicted rating: 4.38)\n",
      "Shall We Dance? (Shall We Dansu?) (1996) : (Predicted rating: 4.39)\n",
      "Courage Under Fire (1996) : (Predicted rating: 4.18)\n",
      "Untouchables, The (1987) : (Predicted rating: 4.30)\n"
     ]
    }
   ],
   "source": [
    "sample_user = '1'\n",
    "\n",
    "movies_df['movieID'] = movies_df['movieID'].astype(str)\n",
    "\n",
    "recommended_movies = [\n",
    "    (movies_df.loc[movies_df['movieID'] == movie_id, 'title'].values[0], score) for movie_id, score in top_n_recommendations[sample_user]\n",
    "]\n",
    "\n",
    "print(\"Top recommendations for user\", sample_user)\n",
    "print('                                 ')\n",
    "for title, score in recommended_movies:\n",
    "    print(f\"{title} : (Predicted rating: {score:.2f})\")\n"
   ]
  },
  {
   "cell_type": "markdown",
   "id": "301e76c6",
   "metadata": {},
   "source": [
    "# **Thank You!**"
   ]
  }
 ],
 "metadata": {
  "kernelspec": {
   "display_name": "base",
   "language": "python",
   "name": "python3"
  },
  "language_info": {
   "codemirror_mode": {
    "name": "ipython",
    "version": 3
   },
   "file_extension": ".py",
   "mimetype": "text/x-python",
   "name": "python",
   "nbconvert_exporter": "python",
   "pygments_lexer": "ipython3",
   "version": "3.12.3"
  }
 },
 "nbformat": 4,
 "nbformat_minor": 5
}
